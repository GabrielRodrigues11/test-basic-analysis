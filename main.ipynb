{
 "cells": [
  {
   "cell_type": "code",
   "execution_count": 27,
   "metadata": {},
   "outputs": [],
   "source": [
    "import pandas as pd\n",
    "import matplotlib.pyplot as plt\n",
    "from datetime import datetime"
   ]
  },
  {
   "cell_type": "code",
   "execution_count": 28,
   "metadata": {},
   "outputs": [],
   "source": [
    "# Carregar o arquivo csv como um DataFrame\n",
    "df = pd.read_csv('basic-analitycs.csv')"
   ]
  },
  {
   "cell_type": "code",
   "execution_count": 29,
   "metadata": {},
   "outputs": [],
   "source": [
    "# Renomear as colunas\n",
    "df = df.rename(columns={\n",
    "    'customer_id': 'ID do Cliente',\n",
    "    'trans_date': 'Data da Transação',\n",
    "    'tran_amount': 'Valor da Transação'\n",
    "})"
   ]
  },
  {
   "cell_type": "code",
   "execution_count": 30,
   "metadata": {},
   "outputs": [
    {
     "name": "stdout",
     "output_type": "stream",
     "text": [
      "Informações básicas sobre o DataFrame:\n",
      "<class 'pandas.core.frame.DataFrame'>\n",
      "RangeIndex: 125000 entries, 0 to 124999\n",
      "Data columns (total 3 columns):\n",
      " #   Column              Non-Null Count   Dtype \n",
      "---  ------              --------------   ----- \n",
      " 0   ID do Cliente       125000 non-null  object\n",
      " 1   Data da Transação   125000 non-null  object\n",
      " 2   Valor da Transação  125000 non-null  int64 \n",
      "dtypes: int64(1), object(2)\n",
      "memory usage: 2.9+ MB\n",
      "None\n",
      "\n",
      "Amostra dos dados:\n",
      "  ID do Cliente Data da Transação  Valor da Transação\n",
      "0        CS5295         11-Feb-13                  35\n",
      "1        CS4768        15-mar.-15                  39\n",
      "2        CS2122         26-Feb-13                  52\n",
      "3        CS1217        16-nov.-11                  99\n",
      "4        CS1850        20-nov.-13                  78\n"
     ]
    }
   ],
   "source": [
    "# Análise exploratória dos dados\n",
    "print(\"Informações básicas sobre o DataFrame:\")\n",
    "print(df.info())\n",
    "print(\"\\nAmostra dos dados:\")\n",
    "print(df.head())\n"
   ]
  },
  {
   "cell_type": "code",
   "execution_count": 31,
   "metadata": {},
   "outputs": [
    {
     "name": "stdout",
     "output_type": "stream",
     "text": [
      "\n",
      "Número total de transações: 125000\n"
     ]
    }
   ],
   "source": [
    "# Calcular o número total de transações no conjunto de dados\n",
    "total_transacoes = df.shape[0]\n",
    "print(\"\\nNúmero total de transações:\", total_transacoes)"
   ]
  }
 ],
 "metadata": {
  "kernelspec": {
   "display_name": "Python 3",
   "language": "python",
   "name": "python3"
  },
  "language_info": {
   "codemirror_mode": {
    "name": "ipython",
    "version": 3
   },
   "file_extension": ".py",
   "mimetype": "text/x-python",
   "name": "python",
   "nbconvert_exporter": "python",
   "pygments_lexer": "ipython3",
   "version": "3.11.7"
  }
 },
 "nbformat": 4,
 "nbformat_minor": 2
}
