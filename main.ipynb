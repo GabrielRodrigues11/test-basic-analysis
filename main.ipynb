{
 "cells": [
  {
   "cell_type": "code",
   "execution_count": 126,
   "metadata": {},
   "outputs": [],
   "source": [
    "import pandas as pd\n",
    "import matplotlib.pyplot as plt\n",
    "from datetime import datetime"
   ]
  },
  {
   "cell_type": "code",
   "execution_count": 127,
   "metadata": {},
   "outputs": [],
   "source": [
    "# Carregar o arquivo csv como um DataFrame\n",
    "df = pd.read_csv('basic-analitycs.csv')"
   ]
  },
  {
   "cell_type": "code",
   "execution_count": 128,
   "metadata": {},
   "outputs": [
    {
     "name": "stdout",
     "output_type": "stream",
     "text": [
      "Informações básicas sobre o DataFrame:\n",
      "<class 'pandas.core.frame.DataFrame'>\n",
      "RangeIndex: 125000 entries, 0 to 124999\n",
      "Data columns (total 3 columns):\n",
      " #   Column       Non-Null Count   Dtype \n",
      "---  ------       --------------   ----- \n",
      " 0   customer_id  125000 non-null  object\n",
      " 1   trans_date   125000 non-null  object\n",
      " 2   tran_amount  125000 non-null  int64 \n",
      "dtypes: int64(1), object(2)\n",
      "memory usage: 2.9+ MB\n",
      "None\n",
      "\n",
      "Amostra dos dados:\n",
      "  customer_id  trans_date  tran_amount\n",
      "0      CS5295   11-Feb-13           35\n",
      "1      CS4768  15-mar.-15           39\n",
      "2      CS2122   26-Feb-13           52\n",
      "3      CS1217  16-nov.-11           99\n",
      "4      CS1850  20-nov.-13           78\n"
     ]
    }
   ],
   "source": [
    "# Análise exploratória dos dados\n",
    "print(\"Informações básicas sobre o DataFrame:\")\n",
    "print(df.info())\n",
    "print(\"\\nAmostra dos dados:\")\n",
    "print(df.head())\n"
   ]
  },
  {
   "cell_type": "code",
   "execution_count": 129,
   "metadata": {},
   "outputs": [
    {
     "name": "stdout",
     "output_type": "stream",
     "text": [
      "\n",
      "Número total de transações: 125000\n"
     ]
    }
   ],
   "source": [
    "# Calcular o número total de transações no conjunto de dados\n",
    "total_transacoes = df.shape[0]\n",
    "# Exibir o número total de transações\n",
    "print(\"\\nNúmero total de transações:\", total_transacoes)"
   ]
  },
  {
   "cell_type": "code",
   "execution_count": 130,
   "metadata": {},
   "outputs": [
    {
     "name": "stdout",
     "output_type": "stream",
     "text": [
      "\n",
      "Média das transações: 64.99\n",
      "Desvio padrão das transações: 22.86\n"
     ]
    }
   ],
   "source": [
    "# Calcula a média e o desvio padrão das transações no conjunto de dados\n",
    "media_transacoes = round(df['tran_amount'].mean(), 2)\n",
    "desvio_padrao_transacoes = round(df['tran_amount'].std(), 2)\n",
    "# Exibir a média e o desvio\n",
    "print(\"\\nMédia das transações:\", media_transacoes)\n",
    "print(\"Desvio padrão das transações:\", desvio_padrao_transacoes)"
   ]
  },
  {
   "cell_type": "code",
   "execution_count": 131,
   "metadata": {},
   "outputs": [
    {
     "data": {
      "image/png": "[encoded data removed]",
      "text/plain": [
       "<Figure size 800x600 with 1 Axes>"
      ]
     },
     "metadata": {},
     "output_type": "display_data"
    }
   ],
   "source": [
    "# Cria o gráfico boxplot na horizontal\n",
    "plt.figure(figsize=(8, 6))\n",
    "plt.boxplot(df['tran_amount'], vert=False)\n",
    "plt.axhline(y=1, color='red', linestyle='--', label='Média')\n",
    "plt.xlabel('Quantidade da Transação')\n",
    "plt.ylabel('Transações')\n",
    "plt.legend()\n",
    "plt.title('Transações com Média')\n",
    "plt.grid(True)\n",
    "plt.show()"
   ]
  },
  {
   "cell_type": "code",
   "execution_count": 132,
   "metadata": {},
   "outputs": [
    {
     "name": "stdout",
     "output_type": "stream",
     "text": [
      "Mediana das transações: 65.0\n",
      "Moda das transações: 49\n"
     ]
    }
   ],
   "source": [
    "# Calcular mediana e moda das transações\n",
    "mediana_transacoes = df['tran_amount'].median()\n",
    "moda_transacoes = df['tran_amount'].mode()[0]\n",
    "\n",
    "# Exibir mediana e moda\n",
    "print(\"Mediana das transações:\", mediana_transacoes)\n",
    "print(\"Moda das transações:\", moda_transacoes)"
   ]
  },
  {
   "cell_type": "code",
   "execution_count": 134,
   "metadata": {},
   "outputs": [
    {
     "name": "stdout",
     "output_type": "stream",
     "text": [
      "\n",
      "Top 10 clientes com maior quantidade de transações:\n",
      "customer_id\n",
      "CS4424    39\n",
      "CS4320    38\n",
      "CS3799    36\n",
      "CS1215    35\n",
      "CS5109    35\n",
      "CS3805    35\n",
      "CS2620    35\n",
      "CS3013    35\n",
      "CS4074    34\n",
      "CS4998    34\n",
      "Name: count, dtype: int64\n"
     ]
    }
   ],
   "source": [
    "# Os 10 clientes com a maior quantidade de transações\n",
    "top_10_clientes = df['customer_id'].value_counts().nlargest(10)\n",
    "print(\"\\nTop 10 clientes com maior quantidade de transações:\")\n",
    "print(top_10_clientes)"
   ]
  }
 ],
 "metadata": {
  "kernelspec": {
   "display_name": "Python 3",
   "language": "python",
   "name": "python3"
  },
  "language_info": {
   "codemirror_mode": {
    "name": "ipython",
    "version": 3
   },
   "file_extension": ".py",
   "mimetype": "text/x-python",
   "name": "python",
   "nbconvert_exporter": "python",
   "pygments_lexer": "ipython3",
   "version": "3.11.7"
  }
 },
 "nbformat": 4,
 "nbformat_minor": 2
}
